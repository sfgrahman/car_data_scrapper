{
 "cells": [
  {
   "cell_type": "code",
   "execution_count": 2,
   "metadata": {},
   "outputs": [],
   "source": [
    "import pandas as pd"
   ]
  },
  {
   "cell_type": "code",
   "execution_count": 12,
   "metadata": {},
   "outputs": [
    {
     "name": "stderr",
     "output_type": "stream",
     "text": [
      "C:\\Users\\sfg\\AppData\\Local\\Temp\\ipykernel_4652\\3704792028.py:2: DtypeWarning: Columns (32,33,34,35,36,37,38) have mixed types. Specify dtype option on import or set low_memory=False.\n",
      "  df = pd.read_csv(file)\n"
     ]
    }
   ],
   "source": [
    "file = \"bring_new/bring_new_data_final_clean/bring_new_final_data_clean_ordered.csv\"\n",
    "df = pd.read_csv(file)\n"
   ]
  },
  {
   "cell_type": "code",
   "execution_count": 4,
   "metadata": {},
   "outputs": [],
   "source": [
    "df_unique = df.drop_duplicates(subset=['listing_URL'], keep='first')\n"
   ]
  },
  {
   "cell_type": "code",
   "execution_count": 5,
   "metadata": {},
   "outputs": [
    {
     "data": {
      "text/plain": [
       "10369"
      ]
     },
     "execution_count": 5,
     "metadata": {},
     "output_type": "execute_result"
    }
   ],
   "source": [
    "len(df_unique)"
   ]
  },
  {
   "cell_type": "code",
   "execution_count": 11,
   "metadata": {},
   "outputs": [],
   "source": [
    "df_unique.to_csv(\n",
    "    \"bring_new/bringatrailer_final_clean_new_27.csv\", index=False\n",
    ")"
   ]
  },
  {
   "cell_type": "code",
   "execution_count": 14,
   "metadata": {},
   "outputs": [
    {
     "data": {
      "text/plain": [
       "36237"
      ]
     },
     "execution_count": 14,
     "metadata": {},
     "output_type": "execute_result"
    }
   ],
   "source": [
    "len(df)"
   ]
  },
  {
   "cell_type": "code",
   "execution_count": 13,
   "metadata": {},
   "outputs": [
    {
     "data": {
      "text/plain": [
       "Index(['Title', 'Year', 'Make', 'Model', 'Sold Status', 'Price', 'Currency',\n",
       "       'Reserve Status', 'Chassis No.', 'info_0', 'info_1', 'info_2', 'info_3',\n",
       "       'info_4', 'info_5', 'info_6', 'info_7', 'info_8', 'info_9', 'info_10',\n",
       "       'info_11', 'info_12', 'info_13', 'info_14', 'info_15', 'info_16',\n",
       "       'info_17', 'info_18', 'info_19', 'info_20', 'info_21', 'info_22',\n",
       "       'info_23', 'info_24', 'info_25', 'info_26', 'info_27', 'info_28',\n",
       "       'info_29', 'Seller Type', 'Selling Date', 'Location', 'listing_URL'],\n",
       "      dtype='object')"
      ]
     },
     "execution_count": 13,
     "metadata": {},
     "output_type": "execute_result"
    }
   ],
   "source": [
    "df.columns"
   ]
  },
  {
   "cell_type": "code",
   "execution_count": 20,
   "metadata": {},
   "outputs": [],
   "source": [
    "df = df[~df[\"Make\"].str.contains(\"Parts and Automobilia\", na=False)]"
   ]
  },
  {
   "cell_type": "code",
   "execution_count": 29,
   "metadata": {},
   "outputs": [],
   "source": [
    "df = df.dropna(subset=[\"Year\"])"
   ]
  },
  {
   "cell_type": "code",
   "execution_count": 30,
   "metadata": {},
   "outputs": [
    {
     "data": {
      "text/plain": [
       "34974"
      ]
     },
     "execution_count": 30,
     "metadata": {},
     "output_type": "execute_result"
    }
   ],
   "source": [
    "len(df)"
   ]
  },
  {
   "cell_type": "code",
   "execution_count": 31,
   "metadata": {},
   "outputs": [
    {
     "data": {
      "text/plain": [
       "Index(['Title', 'Year', 'Make', 'Model', 'Sold Status', 'Price', 'Currency',\n",
       "       'Reserve Status', 'Chassis No.', 'info_0', 'info_1', 'info_2', 'info_3',\n",
       "       'info_4', 'info_5', 'info_6', 'info_7', 'info_8', 'info_9', 'info_10',\n",
       "       'info_11', 'info_12', 'info_13', 'info_14', 'info_15', 'info_16',\n",
       "       'info_17', 'info_18', 'info_19', 'info_20', 'info_21', 'info_22',\n",
       "       'info_23', 'info_24', 'info_25', 'info_26', 'info_27', 'info_28',\n",
       "       'info_29', 'Seller Type', 'Selling Date', 'Location', 'listing_URL'],\n",
       "      dtype='object')"
      ]
     },
     "execution_count": 31,
     "metadata": {},
     "output_type": "execute_result"
    }
   ],
   "source": [
    "df.columns"
   ]
  },
  {
   "cell_type": "code",
   "execution_count": 32,
   "metadata": {},
   "outputs": [],
   "source": [
    "new_order = [\n",
    "    \"Title\",\n",
    "    \"Year\",\n",
    "    \"Make\",\n",
    "    \"Model\",\n",
    "    \"Sold Status\",\n",
    "    \"Price\",\n",
    "    \"Currency\",\n",
    "    \"Reserve Status\",\n",
    "    \"Chassis No.\",\n",
    "    \"info_0\",\n",
    "    \"info_1\",\n",
    "    \"info_2\",\n",
    "    \"info_3\",\n",
    "    \"info_4\",\n",
    "    \"info_5\",\n",
    "    \"info_6\",\n",
    "    \"info_7\",\n",
    "    \"info_8\",\n",
    "    \"info_9\",\n",
    "    \"info_10\",\n",
    "    \"info_11\",\n",
    "    \"info_12\",\n",
    "    \"info_13\",\n",
    "    \"info_14\",\n",
    "    \"info_15\",\n",
    "    \"info_16\",\n",
    "    \"info_17\",\n",
    "    \"info_18\",\n",
    "    \"info_19\",\n",
    "    \"info_20\",\n",
    "    \"info_21\",\n",
    "    \"info_22\",\n",
    "    \"info_23\",\n",
    "    \"info_24\",\n",
    "    \"info_25\",\n",
    "    \"info_26\",\n",
    "    \"info_27\",\n",
    "    \"info_28\",\n",
    "    \"info_29\",\n",
    "    \"Seller Type\",\n",
    "    \"Selling Date\",\n",
    "    \"Location\",\n",
    "    \"listing_URL\",\n",
    "]"
   ]
  },
  {
   "cell_type": "code",
   "execution_count": 33,
   "metadata": {},
   "outputs": [],
   "source": [
    "df[\"Reserve Status\"] = df[\"Reserve Status\"].fillna(\"Reserve\")\n",
    "df[\"Sold Status\"] = df[\"Sold Status\"].fillna(\"Unsold\")"
   ]
  },
  {
   "cell_type": "code",
   "execution_count": 34,
   "metadata": {},
   "outputs": [],
   "source": [
    "data_new_order = df[new_order]"
   ]
  },
  {
   "cell_type": "code",
   "execution_count": 35,
   "metadata": {},
   "outputs": [],
   "source": [
    "data_new_order.to_csv(\n",
    "    \"bring_new/bring_new_data_final_clean/bring_new_data_final_clean_ordered_done.csv\", index=False\n",
    ")"
   ]
  },
  {
   "cell_type": "code",
   "execution_count": 1,
   "metadata": {},
   "outputs": [],
   "source": [
    "import pandas as pd"
   ]
  },
  {
   "cell_type": "code",
   "execution_count": 2,
   "metadata": {},
   "outputs": [],
   "source": [
    "import os\n",
    "directory_path = \"bringatrailer/final_data/\"\n",
    "file_path_done = \"bringatrailer/done_url/bringatrailer_done.txt\"\n",
    "for filename in os.listdir(directory_path):\n",
    "    if filename.endswith(\".csv\"):  # Check if the file is a CSV\n",
    "        file_path = os.path.join(directory_path, filename)\n",
    "        df = pd.read_csv(file_path)\n",
    "        urls = df[\"listing_URL\"]\n",
    "        for url in urls:\n",
    "            with open(file_path_done, \"a\") as file:\n",
    "                file.write(url + \"\\n\")"
   ]
  },
  {
   "cell_type": "code",
   "execution_count": 3,
   "metadata": {},
   "outputs": [
    {
     "name": "stdout",
     "output_type": "stream",
     "text": [
      "2019\n",
      "Year extracted: 2019\n"
     ]
    }
   ],
   "source": [
    "import re\n",
    "\n",
    "# File name\n",
    "file_name = \"barrettjackson_2019.csv\"\n",
    "\n",
    "# Extract year using regex\n",
    "year_match = re.search(r\"\\d{4}\", file_name)\n",
    "print(year_match.group())\n",
    "if year_match:\n",
    "    year = int(year_match.group())\n",
    "    print(f\"Year extracted: {year}\")\n",
    "else:\n",
    "    print(\"Year not found in filename.\")"
   ]
  },
  {
   "cell_type": "code",
   "execution_count": 1,
   "metadata": {},
   "outputs": [],
   "source": [
    "import pandas as pd"
   ]
  },
  {
   "cell_type": "code",
   "execution_count": 3,
   "metadata": {},
   "outputs": [
    {
     "data": {
      "text/html": [
       "<div>\n",
       "<style scoped>\n",
       "    .dataframe tbody tr th:only-of-type {\n",
       "        vertical-align: middle;\n",
       "    }\n",
       "\n",
       "    .dataframe tbody tr th {\n",
       "        vertical-align: top;\n",
       "    }\n",
       "\n",
       "    .dataframe thead th {\n",
       "        text-align: right;\n",
       "    }\n",
       "</style>\n",
       "<table border=\"1\" class=\"dataframe\">\n",
       "  <thead>\n",
       "    <tr style=\"text-align: right;\">\n",
       "      <th></th>\n",
       "      <th>Url</th>\n",
       "    </tr>\n",
       "  </thead>\n",
       "  <tbody>\n",
       "    <tr>\n",
       "      <th>0</th>\n",
       "      <td>https://www.pcarmarket.com/auction/1999-kawasa...</td>\n",
       "    </tr>\n",
       "    <tr>\n",
       "      <th>1</th>\n",
       "      <td>https://www.pcarmarket.com/auction/1990-porsch...</td>\n",
       "    </tr>\n",
       "    <tr>\n",
       "      <th>2</th>\n",
       "      <td>https://www.pcarmarket.com/auction/2017-porsch...</td>\n",
       "    </tr>\n",
       "  </tbody>\n",
       "</table>\n",
       "</div>"
      ],
      "text/plain": [
       "                                                 Url\n",
       "0  https://www.pcarmarket.com/auction/1999-kawasa...\n",
       "1  https://www.pcarmarket.com/auction/1990-porsch...\n",
       "2  https://www.pcarmarket.com/auction/2017-porsch..."
      ]
     },
     "execution_count": 3,
     "metadata": {},
     "output_type": "execute_result"
    }
   ],
   "source": [
    "file = \"pcmarkets/missing/page_missing_15.csv\"\n",
    "column_names = [\"Url\"]\n",
    "df = pd.read_csv(file, names=column_names)\n",
    "df.head()"
   ]
  },
  {
   "cell_type": "code",
   "execution_count": 6,
   "metadata": {},
   "outputs": [],
   "source": [
    "file_list = [\n",
    "   \"bringatrailer/bringatrailer_by_year/bringatrailer_by_year_1950_1990.txt\",\n",
    "   \"bringatrailer/bringatrailer_by_year/bringatrailer_by_year_1950_1990_1.txt\",\n",
    "   \"bringatrailer/bringatrailer_by_year/bringatrailer_by_year_1950_1990_2.txt\",\n",
    "   \"bringatrailer/bringatrailer_by_year/bringatrailer_by_year_1990_2010.txt\",\n",
    "   \"bringatrailer/bringatrailer_by_year/bringatrailer_by_year_1990_2010_1.txt\",\n",
    "   \"bringatrailer/bringatrailer_by_year/bringatrailer_by_year_1990_2010_2.txt\",\n",
    "   \"bringatrailer/bringatrailer_by_year/bringatrailer_by_year_2010_2025.txt\",\n",
    "   \"bringatrailer/bringatrailer_by_year/bringatrailer_by_year_2010_2025_1.txt\",\n",
    "   \"bringatrailer/bringatrailer_by_year/bringatrailer_by_year_2010_2025_2.txt\",\n",
    "]\n"
   ]
  },
  {
   "cell_type": "code",
   "execution_count": 16,
   "metadata": {},
   "outputs": [],
   "source": [
    "urls = []\n",
    "for file_l in file_list:\n",
    "    with open(file_l, \"r\") as file:\n",
    "        lines = file.readlines()\n",
    "        for l in range(len(lines)):\n",
    "            urls.append(lines[l].strip())"
   ]
  },
  {
   "cell_type": "code",
   "execution_count": 17,
   "metadata": {},
   "outputs": [
    {
     "data": {
      "text/plain": [
       "35758"
      ]
     },
     "execution_count": 17,
     "metadata": {},
     "output_type": "execute_result"
    }
   ],
   "source": [
    "len(urls)"
   ]
  },
  {
   "cell_type": "code",
   "execution_count": 12,
   "metadata": {},
   "outputs": [],
   "source": [
    "url_u = df_unique[\"listing_URL\"]"
   ]
  },
  {
   "cell_type": "code",
   "execution_count": 23,
   "metadata": {},
   "outputs": [
    {
     "data": {
      "text/plain": [
       "list"
      ]
     },
     "execution_count": 23,
     "metadata": {},
     "output_type": "execute_result"
    }
   ],
   "source": [
    "type(url_u.tolist())"
   ]
  },
  {
   "cell_type": "code",
   "execution_count": 24,
   "metadata": {},
   "outputs": [],
   "source": [
    "file_full=\"bringatrailer/bringatrailer_by_year/all_links_not_final.txt\"\n",
    "with open(file_full, \"a\") as file:\n",
    "    for url in urls:\n",
    "        if url not in url_u.tolist():\n",
    "            file.write(url + \"\\n\")"
   ]
  },
  {
   "cell_type": "code",
   "execution_count": null,
   "metadata": {},
   "outputs": [],
   "source": []
  }
 ],
 "metadata": {
  "kernelspec": {
   "display_name": "Python 3",
   "language": "python",
   "name": "python3"
  },
  "language_info": {
   "codemirror_mode": {
    "name": "ipython",
    "version": 3
   },
   "file_extension": ".py",
   "mimetype": "text/x-python",
   "name": "python",
   "nbconvert_exporter": "python",
   "pygments_lexer": "ipython3",
   "version": "3.10.16"
  }
 },
 "nbformat": 4,
 "nbformat_minor": 2
}
