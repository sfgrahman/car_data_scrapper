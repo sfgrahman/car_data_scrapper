{
 "cells": [
  {
   "cell_type": "code",
   "execution_count": 5,
   "metadata": {},
   "outputs": [],
   "source": [
    "import pandas as pd"
   ]
  },
  {
   "cell_type": "code",
   "execution_count": 6,
   "metadata": {},
   "outputs": [],
   "source": [
    "file = \"pcmarkets/final_data_clean/pcmarkets_final_data_clean.csv\"\n",
    "df = pd.read_csv(file)"
   ]
  },
  {
   "cell_type": "code",
   "execution_count": 7,
   "metadata": {},
   "outputs": [
    {
     "data": {
      "text/plain": [
       "Index(['Title', 'Price', 'Year', 'Make', 'Model', 'VIN', 'Mileage Shown',\n",
       "       'Transmission', 'Title Status', 'Color', 'Seller Type', 'Location',\n",
       "       'Reserve Status', 'Seller', 'Sold Status', 'Dealer Fees', 'Sller Type',\n",
       "       'listing_URL', 'Dealer Fee', 'Engine Hours', 'Operating Hours',\n",
       "       'Title status', 'Dealer', 'Ttile Status', 'Lien', 'Auction Terms',\n",
       "       'Mileage (Body)', 'Mileage (Engine)', 'Dealer Feess', 'Dealer fees',\n",
       "       'Mileage', 'Tranmission', 'Trasmission', 'Engine Status', 'Origin',\n",
       "       'Odometer Status', 'Seller Note', 'Vehicle Color', 'Seller Fees',\n",
       "       'Milage', 'Odometer Reading (km)', 'Massachusetts Vin', 'CA Smog',\n",
       "       'Type', 'Chassis No.', 'Engine No.', 'Gearbox No.', 'Production No.',\n",
       "       'Exterior Color Code', 'Interior Color Code', 'Completion Date',\n",
       "       'Title Statues', 'Hours on Engine Refresh', 'Title Staus',\n",
       "       'VIN Stamped on Frame', 'Col', 'Dealer fee',\n",
       "       'Potential Odometer Discrepancy', 'Cage Number', 'Seler Type'],\n",
       "      dtype='object')"
      ]
     },
     "execution_count": 7,
     "metadata": {},
     "output_type": "execute_result"
    }
   ],
   "source": [
    "df.columns"
   ]
  },
  {
   "cell_type": "code",
   "execution_count": 8,
   "metadata": {},
   "outputs": [
    {
     "data": {
      "text/plain": [
       "9867"
      ]
     },
     "execution_count": 8,
     "metadata": {},
     "output_type": "execute_result"
    }
   ],
   "source": [
    "len(df)"
   ]
  },
  {
   "cell_type": "code",
   "execution_count": 9,
   "metadata": {},
   "outputs": [],
   "source": [
    "location_column = df.pop(\"listing_URL\")\n",
    "df[\"listing_URL\"] = location_column"
   ]
  },
  {
   "cell_type": "code",
   "execution_count": 10,
   "metadata": {},
   "outputs": [
    {
     "data": {
      "text/plain": [
       "Index(['Title', 'Price', 'Year', 'Make', 'Model', 'VIN', 'Mileage Shown',\n",
       "       'Transmission', 'Title Status', 'Color', 'Seller Type', 'Location',\n",
       "       'Reserve Status', 'Seller', 'Sold Status', 'Dealer Fees', 'Sller Type',\n",
       "       'Dealer Fee', 'Engine Hours', 'Operating Hours', 'Title status',\n",
       "       'Dealer', 'Ttile Status', 'Lien', 'Auction Terms', 'Mileage (Body)',\n",
       "       'Mileage (Engine)', 'Dealer Feess', 'Dealer fees', 'Mileage',\n",
       "       'Tranmission', 'Trasmission', 'Engine Status', 'Origin',\n",
       "       'Odometer Status', 'Seller Note', 'Vehicle Color', 'Seller Fees',\n",
       "       'Milage', 'Odometer Reading (km)', 'Massachusetts Vin', 'CA Smog',\n",
       "       'Type', 'Chassis No.', 'Engine No.', 'Gearbox No.', 'Production No.',\n",
       "       'Exterior Color Code', 'Interior Color Code', 'Completion Date',\n",
       "       'Title Statues', 'Hours on Engine Refresh', 'Title Staus',\n",
       "       'VIN Stamped on Frame', 'Col', 'Dealer fee',\n",
       "       'Potential Odometer Discrepancy', 'Cage Number', 'Seler Type',\n",
       "       'listing_URL'],\n",
       "      dtype='object')"
      ]
     },
     "execution_count": 10,
     "metadata": {},
     "output_type": "execute_result"
    }
   ],
   "source": [
    "df.columns"
   ]
  },
  {
   "cell_type": "code",
   "execution_count": 12,
   "metadata": {},
   "outputs": [],
   "source": [
    "#df[\"Reserve Status\"] = df[\"Reserve Status\"].fillna(\"Reserve\")\n",
    "df[\"Sold Status\"] = df[\"Sold Status\"].fillna(\"Unsold\")"
   ]
  },
  {
   "cell_type": "code",
   "execution_count": 13,
   "metadata": {},
   "outputs": [],
   "source": [
    "df.to_csv(\"pcmarkets/final_data_clean/pcmarkets_final_data_clean.csv\", index=False)"
   ]
  }
 ],
 "metadata": {
  "kernelspec": {
   "display_name": "Python 3",
   "language": "python",
   "name": "python3"
  },
  "language_info": {
   "codemirror_mode": {
    "name": "ipython",
    "version": 3
   },
   "file_extension": ".py",
   "mimetype": "text/x-python",
   "name": "python",
   "nbconvert_exporter": "python",
   "pygments_lexer": "ipython3",
   "version": "3.10.16"
  }
 },
 "nbformat": 4,
 "nbformat_minor": 2
}
